{
 "cells": [
  {
   "cell_type": "markdown",
   "metadata": {},
   "source": [
    "# Instructions\n",
    "\n",
    "1. Create a tarball that contains all the structures you want to put in the database:\n",
    "> tar -czf random_name.tar.gz struct1.cif struct2.cif\n",
    "<br>\n",
    "or\n",
    "<br>\n",
    "> tar -czf random_name.tar.gz \\*.cif\n",
    "\n",
    "2. Hit \"Select tarball\" button and chose the random_name.tar.gz. Then press Open\n",
    "3. After the previous step the button \"Store structures\" will be activated. Press it\n",
    "4. The list of apploaded CIF files will be shown\n",
    "5. If you need more files, start again from the step 1 or 2\n",
    "\n",
    "###  <font color='red'> Warning1: for the moment the application works with CIF files only. </font> \n",
    "###  <font color='red'> Warning2: do not put structures into a subfolder. Do exactly as it is described in the step 1. </font> "
   ]
  },
  {
   "cell_type": "code",
   "execution_count": null,
   "metadata": {},
   "outputs": [],
   "source": [
    "from __future__ import print_function\n",
    "\n",
    "from aiida import load_dbenv, is_dbenv_loaded\n",
    "from aiida.backends import settings\n",
    "if not is_dbenv_loaded():\n",
    "    load_dbenv(profile=settings.AIIDADB_PROFILE)\n",
    "\n",
    "from aiida.orm.querybuilder import QueryBuilder\n",
    "from aiida.orm.data.structure import StructureData\n",
    "from aiida.orm.data.cif import CifData\n",
    "from aiida.orm.calculation import Calculation\n",
    "\n",
    "import ase.io\n",
    "import numpy as np\n",
    "import ipywidgets as ipw\n",
    "from base64 import b64decode\n",
    "from IPython.display import display, clear_output, Image\n",
    "from fileupload import FileUploadWidget\n",
    "from tempfile import NamedTemporaryFile\n",
    "import tarfile"
   ]
  },
  {
   "cell_type": "code",
   "execution_count": null,
   "metadata": {},
   "outputs": [],
   "source": [
    "tarball = None"
   ]
  },
  {
   "cell_type": "markdown",
   "metadata": {},
   "source": [
    "## Upload file"
   ]
  },
  {
   "cell_type": "code",
   "execution_count": null,
   "metadata": {},
   "outputs": [],
   "source": [
    "def on_file_upload(c):\n",
    "    global tarball\n",
    "    tarball = NamedTemporaryFile(suffix=file_upload.filename)\n",
    "    f = open(tarball.name, \"w\")\n",
    "    f.write(file_upload.data)\n",
    "    f.close()\n",
    "    upload_out.value = 'Success.\\nNow hit \"Store structures\" button.'\n",
    "    btn_store.disabled = False\n",
    "\n",
    "#TODO: FileUploadWidget doesn't fire event when same file is uploaded twice\n",
    "file_upload = FileUploadWidget(\"Select tarball\")\n",
    "file_upload.observe(on_file_upload, names='data')\n",
    "upload_out = ipw.HTML('Please select a tarbal with CIF files')\n",
    "\n",
    "display(file_upload, upload_out)"
   ]
  },
  {
   "cell_type": "markdown",
   "metadata": {},
   "source": [
    "## Store in AiiDA Database"
   ]
  },
  {
   "cell_type": "code",
   "execution_count": null,
   "metadata": {},
   "outputs": [],
   "source": [
    "def on_click_store(b):\n",
    "    global tarball\n",
    "    btn_store.disabled = True\n",
    "    with store_out:\n",
    "        clear_output()\n",
    "        tar = tarfile.open(tarball.name)\n",
    "        count = 0\n",
    "        for member in tar.getmembers():\n",
    "            count += 1\n",
    "            fcif = tar.extractfile(member)\n",
    "            cif = NamedTemporaryFile(prefix='', suffix=member.name)\n",
    "            print (cif.name)\n",
    "            f = open(cif.name, \"w\")\n",
    "            f.write(fcif.read())\n",
    "            f.close()\n",
    "            atoms_cif = CifData(file=cif.name, scan_type='flex', parse_policy='lazy')\n",
    "            atoms_cif.store()\n",
    "        html_out.value = \"{} structures stored\".format(count)\n",
    "\n",
    "btn_store = ipw.Button(description='Store structures')\n",
    "btn_store.on_click(on_click_store)\n",
    "btn_store.disabled = True\n",
    "html_out = ipw.HTML(\"\")\n",
    "\n",
    "\n",
    "store_out = ipw.Output()\n",
    "display(btn_store, html_out, store_out)"
   ]
  }
 ],
 "metadata": {
  "kernelspec": {
   "display_name": "Python 2",
   "language": "python",
   "name": "python2"
  },
  "language_info": {
   "codemirror_mode": {
    "name": "ipython",
    "version": 2
   },
   "file_extension": ".py",
   "mimetype": "text/x-python",
   "name": "python",
   "nbconvert_exporter": "python",
   "pygments_lexer": "ipython2",
   "version": "2.7.14"
  }
 },
 "nbformat": 4,
 "nbformat_minor": 2
}
