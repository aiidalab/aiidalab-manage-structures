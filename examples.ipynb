{
 "cells": [
  {
   "cell_type": "markdown",
   "metadata": {},
   "source": [
    "## Step 1: Select from the Examples"
   ]
  },
  {
   "cell_type": "code",
   "execution_count": null,
   "metadata": {},
   "outputs": [],
   "source": [
    "from __future__ import print_function\n",
    "\n",
    "from aiida import load_dbenv, is_dbenv_loaded\n",
    "from aiida.backends import settings\n",
    "if not is_dbenv_loaded():\n",
    "    load_dbenv(profile=settings.AIIDADB_PROFILE)\n",
    "\n",
    "from aiida.orm.querybuilder import QueryBuilder\n",
    "from aiida.orm.data.structure import StructureData\n",
    "from aiida.orm.calculation import Calculation\n",
    "\n",
    "from aiida.tools.dbimporters.plugins.cod import CodDbImporter\n",
    "\n",
    "import ase.io\n",
    "import numpy as np\n",
    "import ipywidgets as ipw\n",
    "from base64 import b64decode\n",
    "from IPython.display import display, clear_output, Image, HTML\n",
    "from fileupload import FileUploadWidget\n",
    "\n",
    "import nglview"
   ]
  },
  {
   "cell_type": "code",
   "execution_count": null,
   "metadata": {},
   "outputs": [],
   "source": [
    "atoms = None\n",
    "structures = [(\"select structure\",{\"status\":False})]\n",
    "\n",
    "layout = ipw.Layout(width=\"400px\")\n",
    "style = {\"description_width\":\"150px\"}\n",
    "\n",
    "viewer = nglview.NGLWidget()\n",
    "clear_output()"
   ]
  },
  {
   "cell_type": "code",
   "execution_count": null,
   "metadata": {},
   "outputs": [],
   "source": [
    "def get_example_structure(key):\n",
    "    from aiida.orm import DataFactory\n",
    "    from ase.lattice.spacegroup import crystal\n",
    "    StructureData = DataFactory('structure')\n",
    "    \n",
    "    if key == 'diamond':\n",
    "        # This is the lattice constant in angstrom\n",
    "        alat = 3.56\n",
    "        diamond_ase = crystal('C', [(0,0,0)], spacegroup=227,\n",
    "                          cellpar=[alat, alat, alat, 90, 90, 90],primitive_cell=True)\n",
    "        s = StructureData(ase=diamond_ase)\n",
    "        return s\n",
    "    elif key == 'al':\n",
    "        # This is the lattice constant in angstrom\n",
    "        alat = 4.05\n",
    "        Al_ase = crystal('Al', [(0,0,0)], spacegroup=225,\n",
    "                          cellpar=[alat, alat, alat, 90, 90, 90],primitive_cell=False)\n",
    "        s = StructureData(ase=Al_ase)\n",
    "        return s\n",
    "    elif key == 'gaas':\n",
    "        # This is the lattice constant in angstrom\n",
    "        alat = 5.75\n",
    "        GaAs_ase = crystal('GaAs', [(0,0,0),(0.25,0.25,0.25)], spacegroup=216,\n",
    "                          cellpar=[alat, alat, alat, 90, 90, 90],primitive_cell=True)\n",
    "        s = StructureData(ase=GaAs_ase)\n",
    "        return s\n",
    "    elif key == 'co':\n",
    "        # These are the lattice constants in angstrom\n",
    "        a = 2.5\n",
    "        c = 4.07\n",
    "        Co_ase = crystal('Co', [(1./3,2./3,0.25)], spacegroup=194,\n",
    "                          cellpar=[a, a, c, 90, 90, 120],primitive_cell=True)\n",
    "        s = StructureData(ase=Co_ase)\n",
    "        return s\n",
    "    else:\n",
    "        raise ValueError(\"Unknown or unsupported example structure '{}'\".format(key))\n",
    "\n",
    "def get_structure():\n",
    "    global structure\n",
    "    if in_use_example_structure.value:\n",
    "        structure_key = in_example_structure.value\n",
    "        return get_example_structure(structure_key)\n",
    "    else:\n",
    "        if structure is None:\n",
    "            raise ValueError(\"You did not upload a structure. Either upload a structure or choose an example.\")\n",
    "        else:\n",
    "            return structure\n",
    "structures = [\n",
    "    (\"select structure\",{'status':False}),\n",
    "    ('Diamond', {'structure':get_example_structure('diamond')}),\n",
    "    ('Al', {'structure':get_example_structure('al')}),\n",
    "    ('GaAs', {'structure': get_example_structure('gaas')}),\n",
    "    ('CO', {'structure':get_example_structure('co')}),\n",
    "]\n",
    "\n"
   ]
  },
  {
   "cell_type": "code",
   "execution_count": null,
   "metadata": {},
   "outputs": [],
   "source": [
    "def refresh_structure_view():\n",
    "    global viewer, atoms\n",
    "    if hasattr(viewer, \"component_0\"):\n",
    "        viewer.clear_representations()\n",
    "        viewer.component_0.remove_ball_and_stick()\n",
    "        viewer.component_0.remove_ball_and_stick()\n",
    "        viewer.component_0.remove_ball_and_stick()\n",
    "        viewer.component_0.remove_unitcell()\n",
    "        cid = viewer.component_0.id\n",
    "        viewer.remove_component(cid)\n",
    "\n",
    "    viewer.add_component(nglview.ASEStructure(atoms.get_ase())) # adds ball+stick\n",
    "    viewer.add_unitcell()\n",
    "    viewer.center()"
   ]
  },
  {
   "cell_type": "code",
   "execution_count": null,
   "metadata": {},
   "outputs": [],
   "source": [
    "def on_change(c):\n",
    "    global atoms\n",
    "    indx = c['owner'].index\n",
    "    new_element = c['new']\n",
    "    atoms = new_element['structure']\n",
    "    formula = atoms.get_ase().get_chemical_formula()\n",
    "    refresh_structure_view()\n",
    "\n",
    "\n",
    "    \n",
    "drop_structure = ipw.Dropdown(description=\"\", options=structures, style=style, layout=layout )\n",
    "drop_structure.observe(on_change, names='value')\n",
    "#link = ipw.HTML(\"Link to the web-page will appear here\")\n",
    "display(drop_structure, ipw.VBox([viewer]))"
   ]
  },
  {
   "cell_type": "markdown",
   "metadata": {},
   "source": [
    "## Step 2: Store in AiiDA Database"
   ]
  },
  {
   "cell_type": "code",
   "execution_count": null,
   "metadata": {},
   "outputs": [],
   "source": [
    "def on_click_store(b):\n",
    "    global atoms\n",
    "    with store_out:\n",
    "        clear_output()\n",
    "        if atoms is None:\n",
    "            print (\"Specify a structure first!\")\n",
    "            return\n",
    "        s = StructureData(ase=atoms.get_ase())\n",
    "        # ensure that tags got correctly translated into kinds \n",
    "        s.description = inp_descr.value\n",
    "        s.store()\n",
    "        print(\"Stored in AiiDA: \"+repr(s))\n",
    "\n",
    "inp_descr = ipw.Text(placeholder=\"Description (optional)\")   \n",
    "btn_store = ipw.Button(description='Store in AiiDA')\n",
    "btn_store.on_click(on_click_store)\n",
    "\n",
    "store_out = ipw.Output()\n",
    "display(ipw.HBox([btn_store, inp_descr]), store_out)"
   ]
  }
 ],
 "metadata": {
  "kernelspec": {
   "display_name": "Python 2",
   "language": "python",
   "name": "python2"
  },
  "language_info": {
   "codemirror_mode": {
    "name": "ipython",
    "version": 2
   },
   "file_extension": ".py",
   "mimetype": "text/x-python",
   "name": "python",
   "nbconvert_exporter": "python",
   "pygments_lexer": "ipython2",
   "version": "2.7.14"
  }
 },
 "nbformat": 4,
 "nbformat_minor": 2
}
